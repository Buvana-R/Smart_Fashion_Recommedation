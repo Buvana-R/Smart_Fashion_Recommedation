{
 "cells": [
  {
   "cell_type": "code",
   "execution_count": 5,
   "id": "c0b4094d",
   "metadata": {},
   "outputs": [
    {
     "ename": "AttributeError",
     "evalue": "partially initialized module 'pandas' has no attribute 'core' (most likely due to a circular import)",
     "output_type": "error",
     "traceback": [
      "\u001b[1;31m---------------------------------------------------------------------------\u001b[0m",
      "\u001b[1;31mAttributeError\u001b[0m                            Traceback (most recent call last)",
      "Cell \u001b[1;32mIn[5], line 2\u001b[0m\n\u001b[0;32m      1\u001b[0m \u001b[38;5;28;01mimport\u001b[39;00m \u001b[38;5;21;01mnumpy\u001b[39;00m \u001b[38;5;28;01mas\u001b[39;00m \u001b[38;5;21;01mnp\u001b[39;00m  \n\u001b[1;32m----> 2\u001b[0m \u001b[38;5;28;01mimport\u001b[39;00m \u001b[38;5;21;01mpandas\u001b[39;00m \u001b[38;5;28;01mas\u001b[39;00m \u001b[38;5;21;01mpd\u001b[39;00m  \n\u001b[0;32m      3\u001b[0m \u001b[38;5;28;01mfrom\u001b[39;00m \u001b[38;5;21;01msklearn\u001b[39;00m\u001b[38;5;21;01m.\u001b[39;00m\u001b[38;5;21;01mmetrics\u001b[39;00m\u001b[38;5;21;01m.\u001b[39;00m\u001b[38;5;21;01mpairwise\u001b[39;00m \u001b[38;5;28;01mimport\u001b[39;00m cosine_similarity  \n\u001b[0;32m      4\u001b[0m \u001b[38;5;28;01mimport\u001b[39;00m \u001b[38;5;21;01mmatplotlib\u001b[39;00m\u001b[38;5;21;01m.\u001b[39;00m\u001b[38;5;21;01mpyplot\u001b[39;00m \u001b[38;5;28;01mas\u001b[39;00m \u001b[38;5;21;01mplt\u001b[39;00m  \n",
      "File \u001b[1;32mc:\\python\\python39\\lib\\site-packages\\pandas\\__init__.py:179\u001b[0m\n\u001b[0;32m    176\u001b[0m \u001b[38;5;28;01mfrom\u001b[39;00m \u001b[38;5;21;01mpandas\u001b[39;00m\u001b[38;5;21;01m.\u001b[39;00m\u001b[38;5;21;01mio\u001b[39;00m\u001b[38;5;21;01m.\u001b[39;00m\u001b[38;5;21;01mjson\u001b[39;00m \u001b[38;5;28;01mimport\u001b[39;00m _json_normalize \u001b[38;5;28;01mas\u001b[39;00m json_normalize\n\u001b[0;32m    178\u001b[0m \u001b[38;5;28;01mfrom\u001b[39;00m \u001b[38;5;21;01mpandas\u001b[39;00m\u001b[38;5;21;01m.\u001b[39;00m\u001b[38;5;21;01mutil\u001b[39;00m\u001b[38;5;21;01m.\u001b[39;00m\u001b[38;5;21;01m_tester\u001b[39;00m \u001b[38;5;28;01mimport\u001b[39;00m test\n\u001b[1;32m--> 179\u001b[0m \u001b[38;5;28;01mimport\u001b[39;00m \u001b[38;5;21;01mpandas\u001b[39;00m\u001b[38;5;21;01m.\u001b[39;00m\u001b[38;5;21;01mtesting\u001b[39;00m\n\u001b[0;32m    180\u001b[0m \u001b[38;5;28;01mimport\u001b[39;00m \u001b[38;5;21;01mpandas\u001b[39;00m\u001b[38;5;21;01m.\u001b[39;00m\u001b[38;5;21;01marrays\u001b[39;00m\n\u001b[0;32m    182\u001b[0m \u001b[38;5;66;03m# use the closest tagged version if possible\u001b[39;00m\n",
      "File \u001b[1;32mc:\\python\\python39\\lib\\site-packages\\pandas\\testing.py:5\u001b[0m\n\u001b[0;32m      1\u001b[0m \u001b[38;5;124;03m\"\"\"\u001b[39;00m\n\u001b[0;32m      2\u001b[0m \u001b[38;5;124;03mPublic testing utility functions.\u001b[39;00m\n\u001b[0;32m      3\u001b[0m \u001b[38;5;124;03m\"\"\"\u001b[39;00m\n\u001b[1;32m----> 5\u001b[0m \u001b[38;5;28;01mfrom\u001b[39;00m \u001b[38;5;21;01mpandas\u001b[39;00m\u001b[38;5;21;01m.\u001b[39;00m\u001b[38;5;21;01m_testing\u001b[39;00m \u001b[38;5;28;01mimport\u001b[39;00m (\n\u001b[0;32m      6\u001b[0m     assert_extension_array_equal,\n\u001b[0;32m      7\u001b[0m     assert_frame_equal,\n\u001b[0;32m      8\u001b[0m     assert_index_equal,\n\u001b[0;32m      9\u001b[0m     assert_series_equal,\n\u001b[0;32m     10\u001b[0m )\n\u001b[0;32m     12\u001b[0m __all__ \u001b[38;5;241m=\u001b[39m [\n\u001b[0;32m     13\u001b[0m     \u001b[38;5;124m\"\u001b[39m\u001b[38;5;124massert_extension_array_equal\u001b[39m\u001b[38;5;124m\"\u001b[39m,\n\u001b[0;32m     14\u001b[0m     \u001b[38;5;124m\"\u001b[39m\u001b[38;5;124massert_frame_equal\u001b[39m\u001b[38;5;124m\"\u001b[39m,\n\u001b[0;32m     15\u001b[0m     \u001b[38;5;124m\"\u001b[39m\u001b[38;5;124massert_series_equal\u001b[39m\u001b[38;5;124m\"\u001b[39m,\n\u001b[0;32m     16\u001b[0m     \u001b[38;5;124m\"\u001b[39m\u001b[38;5;124massert_index_equal\u001b[39m\u001b[38;5;124m\"\u001b[39m,\n\u001b[0;32m     17\u001b[0m ]\n",
      "File \u001b[1;32mc:\\python\\python39\\lib\\site-packages\\pandas\\_testing.py:3054\u001b[0m\n\u001b[0;32m   3049\u001b[0m     \u001b[38;5;28;01mimport\u001b[39;00m \u001b[38;5;21;01mpytest\u001b[39;00m\n\u001b[0;32m   3051\u001b[0m     \u001b[38;5;28;01mreturn\u001b[39;00m pytest\u001b[38;5;241m.\u001b[39mraises(expected_exception, match\u001b[38;5;241m=\u001b[39m\u001b[38;5;28;01mNone\u001b[39;00m)\n\u001b[1;32m-> 3054\u001b[0m cython_table \u001b[38;5;241m=\u001b[39m \u001b[43mpd\u001b[49m\u001b[38;5;241;43m.\u001b[39;49m\u001b[43mcore\u001b[49m\u001b[38;5;241m.\u001b[39mbase\u001b[38;5;241m.\u001b[39mSelectionMixin\u001b[38;5;241m.\u001b[39m_cython_table\u001b[38;5;241m.\u001b[39mitems()\n\u001b[0;32m   3057\u001b[0m \u001b[38;5;28;01mdef\u001b[39;00m \u001b[38;5;21mget_cython_table_params\u001b[39m(ndframe, func_names_and_expected):\n\u001b[0;32m   3058\u001b[0m \u001b[38;5;250m    \u001b[39m\u001b[38;5;124;03m\"\"\"\u001b[39;00m\n\u001b[0;32m   3059\u001b[0m \u001b[38;5;124;03m    Combine frame, functions from SelectionMixin._cython_table\u001b[39;00m\n\u001b[0;32m   3060\u001b[0m \u001b[38;5;124;03m    keys and expected result.\u001b[39;00m\n\u001b[1;32m   (...)\u001b[0m\n\u001b[0;32m   3072\u001b[0m \u001b[38;5;124;03m        List of three items (DataFrame, function, expected result)\u001b[39;00m\n\u001b[0;32m   3073\u001b[0m \u001b[38;5;124;03m    \"\"\"\u001b[39;00m\n",
      "\u001b[1;31mAttributeError\u001b[0m: partially initialized module 'pandas' has no attribute 'core' (most likely due to a circular import)"
     ]
    }
   ],
   "source": [
    "import numpy as np  \n",
    "import pandas as pd  \n",
    "from sklearn.metrics.pairwise import cosine_similarity  \n",
    "import matplotlib.pyplot as plt  \n",
    "from wordcloud import WordCloud, STOPWORDS, ImageColorGenerator  \n",
    "from nltk.corpus import stopwords  \n",
    "import string  \n",
    "data = pd.read_csv(\"Dress.csv\")  \n",
    "print(data.head())  "
   ]
  },
  {
   "cell_type": "code",
   "execution_count": 3,
   "id": "9c0eb581",
   "metadata": {},
   "outputs": [
    {
     "ename": "NameError",
     "evalue": "name 'pd' is not defined",
     "output_type": "error",
     "traceback": [
      "\u001b[1;31m---------------------------------------------------------------------------\u001b[0m",
      "\u001b[1;31mNameError\u001b[0m                                 Traceback (most recent call last)",
      "Cell \u001b[1;32mIn[3], line 1\u001b[0m\n\u001b[1;32m----> 1\u001b[0m data \u001b[38;5;241m=\u001b[39m \u001b[43mpd\u001b[49m\u001b[38;5;241m.\u001b[39mread_csv(\u001b[38;5;124m\"\u001b[39m\u001b[38;5;124mDress.csv\u001b[39m\u001b[38;5;124m\"\u001b[39m)  \n\u001b[0;32m      2\u001b[0m \u001b[38;5;28mprint\u001b[39m(data\u001b[38;5;241m.\u001b[39mtail()) \n",
      "\u001b[1;31mNameError\u001b[0m: name 'pd' is not defined"
     ]
    }
   ],
   "source": [
    "data = pd.read_csv(\"Dress.csv\")  \n",
    "print(data.tail()) "
   ]
  },
  {
   "cell_type": "code",
   "execution_count": null,
   "id": "b35b5604",
   "metadata": {},
   "outputs": [],
   "source": [
    "print(data.describe())  "
   ]
  },
  {
   "cell_type": "code",
   "execution_count": null,
   "id": "fb4cae66",
   "metadata": {},
   "outputs": [],
   "source": [
    "print(data.info())  "
   ]
  },
  {
   "cell_type": "code",
   "execution_count": null,
   "id": "5595ebdd",
   "metadata": {},
   "outputs": [],
   "source": [
    "print(data.isnull().sum())  "
   ]
  },
  {
   "cell_type": "code",
   "execution_count": null,
   "id": "0ba21caa",
   "metadata": {},
   "outputs": [],
   "source": [
    "data = data.drop(\"Image\",axis=1)  "
   ]
  },
  {
   "cell_type": "code",
   "execution_count": null,
   "id": "05520b33",
   "metadata": {},
   "outputs": [],
   "source": [
    "data = data.dropna()  "
   ]
  },
  {
   "cell_type": "code",
   "execution_count": null,
   "id": "6618bc0e",
   "metadata": {},
   "outputs": [],
   "source": [
    "print(data.shape)  "
   ]
  },
  {
   "cell_type": "code",
   "execution_count": null,
   "id": "941459b5",
   "metadata": {},
   "outputs": [],
   "source": [
    "text = \" \".join(i for i in data[\"Brand Name\"])  \n",
    "stopwords = set(STOPWORDS)  \n",
    "wordcloud = WordCloud(stopwords=stopwords,   \n",
    "                      background_color=\"white\").generate(text)  \n",
    "plt.figure( figsize=(15,10))  \n",
    "plt.imshow(wordcloud, interpolation='bilinear')  \n",
    "plt.axis(\"off\")  \n",
    "plt.show()  "
   ]
  },
  {
   "cell_type": "code",
   "execution_count": null,
   "id": "b36e8115",
   "metadata": {},
   "outputs": [],
   "source": [
    "highest_rated = data.sort_values(by=[\"Product Ratings\"],   \n",
    "                                 ascending=False)  \n",
    "highest_rated = highest_rated.head(10)  \n",
    "print(highest_rated[['Product Info', \"Product Ratings\", \"Brand Name\"]])  "
   ]
  },
  {
   "cell_type": "code",
   "execution_count": null,
   "id": "1d5227a9",
   "metadata": {},
   "outputs": [],
   "source": [
    "Mr = data['Product Ratings'].mean()  \n",
    "m = data['Number of ratings'].quantile(0.9)  \n",
    "n = data['Number of ratings']  \n",
    "a = data['Product Ratings']  \n",
    "data[\"Score\"]  = (n/(n+m) * a) + (m/(m+n) * Mr)  \n",
    "  \n",
    "recommendations = data.sort_values('Score', ascending=False)  \n",
    "print(recommendations[['Brand Name', 'Product Info',  \n",
    "                       'Product Ratings', 'Score',   \n",
    "                       'Selling Price', 'Discount','Color']].head(10))  "
   ]
  },
  {
   "cell_type": "code",
   "execution_count": null,
   "id": "91683dce",
   "metadata": {},
   "outputs": [],
   "source": [
    "score = (n/(n+m) * a) + (m/(m+n) * Mr)  "
   ]
  },
  {
   "cell_type": "code",
   "execution_count": null,
   "id": "f161f3c6",
   "metadata": {},
   "outputs": [],
   "source": [
    "from keras.models import load_model  # TensorFlow is required for Keras to work\n",
    "import cv2  # Install opencv-python\n",
    "import numpy as np\n",
    "import time\n",
    "\n",
    "# Disable scientific notation for clarity\n",
    "np.set_printoptions(suppress=True)\n",
    "\n",
    "# Load the model\n",
    "model = load_model(\"keras_Model.h5\", compile=False)\n",
    "\n",
    "\n",
    "# Load the labels\n",
    "class_names = open(\"labels.txt\", \"r\").readlines()\n",
    "\n",
    "# CAMERA can be 0 or 1 based on default camera of your computer\n",
    "camera = cv2.VideoCapture(0)\n",
    "\n",
    "#while True:\n",
    "    # Grab the webcamera's image.\n",
    "ret, image = camera.read()\n",
    "\n",
    "    # Resize the raw image into (224-height,224-width) pixels\n",
    "image = cv2.resize(image, (224, 224), interpolation=cv2.INTER_AREA)\n",
    "\n",
    "    # Show the image in a window\n",
    "cv2.imshow(\"Webcam Image\", image)\n",
    "# cv2.imwrite(\"Images\",image)\n",
    "    # Make the image a numpy array and reshape it to the models input shape.\n",
    "image = np.asarray(image, dtype=np.float32).reshape(1, 224, 224, 3)\n",
    "\n",
    "    # Normalize the image array\n",
    "image = (image / 127.5) - 1\n",
    "\n",
    "\n",
    "    # Predicts the model\n",
    "prediction = model.predict(image)\n",
    "index = np.argmax(prediction)\n",
    "class_name = class_names[index]\n",
    "confidence_score = prediction[0][index]\n",
    "\n",
    "    # Print prediction and confidence score\n",
    "print(\"Class:\", class_name[2:], end=\"\")\n",
    "print(\"Confidence Score:\", str(np.round(confidence_score * 100))[:-2], \"%\")\n",
    "\n",
    "    # Listen to the keyboard for presses.\n",
    "keyboard_input = cv2.waitKey(1)\n",
    "\n",
    "    # 27 is the ASCII for the esc key on your keyboard.\n",
    "# if keyboard_input == 27:\n",
    "#     break\n",
    "\n",
    "# print(class_name[0])\n",
    "# print(type(class_name))\n",
    "\n",
    "camera.release()\n",
    "cv2.destroyAllWindows()\n",
    "\n",
    "if(class_name[0]==\"0\"):\n",
    "    print(\"You can choose white, khaki, dark purple or plum, red, gray, light blue, orange, gold, or pink colors\")\n",
    "#     dc='white'\n",
    "#     dc2='khaki'\n",
    "elif(class_name[0]==\"1\"):\n",
    "    print(\"You can choose deep purple, ruby red,emerald green, navy, bold shades of blue, mustard yellow, and dull orange\")\n",
    "#     lc1='deep purple'\n",
    "#     lc2='ruby red'\n",
    "elif (class_name[0]==\"2\"):\n",
    "    print(\"You can choose most colours, but warm earthy tones such as browns, tan, khaki, yellow, green, orange, grey, blues and reds\")\n",
    "#     mc1='browns'\n",
    "#     mc2='green'\n",
    "else:\n",
    "    print()\n",
    "# if(class_name[3]==\"DARK\"):\n",
    "#     print(\"You can choose white, khaki, dark purple or plum, red, gray, light blue, orange, gold, or pink colors\")\n",
    "# elif(class_name[3]==\"LIGHT\"):\n",
    "#     print(\"You can choose deep purple, ruby red,emerald green, navy, bold shades of blue, mustard yellow, and dull orange\")\n",
    "# elif (class_name[3]==\"MEDIUM\"):\n",
    "#     print(\"You can choose most colours, but warm earthy tones such as browns, tan, khaki, yellow, green, orange, grey, blues and reds\")\n",
    "# else:\n",
    "#     print(\"hi\")\n",
    "\n",
    "\n"
   ]
  },
  {
   "cell_type": "code",
   "execution_count": null,
   "id": "31e01742",
   "metadata": {},
   "outputs": [],
   "source": [
    "# Load the model\n",
    "model = load_model(\"keras_Model.h5\", compile=False)\n",
    "\n",
    "# Print the model summary\n",
    "model.summary()\n",
    "\n"
   ]
  },
  {
   "cell_type": "code",
   "execution_count": null,
   "id": "e7c11799",
   "metadata": {},
   "outputs": [],
   "source": []
  }
 ],
 "metadata": {
  "kernelspec": {
   "display_name": "Python 3 (ipykernel)",
   "language": "python",
   "name": "python3"
  },
  "language_info": {
   "codemirror_mode": {
    "name": "ipython",
    "version": 3
   },
   "file_extension": ".py",
   "mimetype": "text/x-python",
   "name": "python",
   "nbconvert_exporter": "python",
   "pygments_lexer": "ipython3",
   "version": "3.9.4"
  }
 },
 "nbformat": 4,
 "nbformat_minor": 5
}
